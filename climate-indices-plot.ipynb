{
 "cells": [
  {
   "cell_type": "code",
   "execution_count": 1,
   "id": "dfe12cd0-2a3c-4b3d-afce-9a27155cf3b9",
   "metadata": {},
   "outputs": [],
   "source": [
    "import xarray as xr\n",
    "import numpy as np\n",
    "import matplotlib.pyplot as plt\n",
    "from datetime import date\n",
    "from dateutil.relativedelta import relativedelta\n",
    "import pandas as pd\n",
    "import xgcm\n",
    "import pooch\n",
    "\n",
    "%matplotlib inline"
   ]
  },
  {
   "cell_type": "markdown",
   "id": "e2559c8c-d4a3-4ac1-972a-460e8a3c2053",
   "metadata": {},
   "source": [
    "# Download the data\n",
    "And organise the data structures to give time series that can easily analysed and plotted.\n",
    "\n",
    "Code is setup to use `pooch` to obtain the latest versions. Alternatively, you can use the datasets in the folder `climate-indices`. However, they will be somewhat out of date."
   ]
  },
  {
   "cell_type": "markdown",
   "id": "585ddf1c-7e70-4d02-b2ba-9dc5a745d2ba",
   "metadata": {},
   "source": [
    "## Pacific Decadal Oscillation\n",
    "\n",
    "downloaded from https://www.ncei.noaa.gov/access/monitoring/pdo/\n"
   ]
  },
  {
   "cell_type": "code",
   "execution_count": 2,
   "id": "15171f72-0e75-4f26-9c54-6d37f84b19a6",
   "metadata": {},
   "outputs": [
    {
     "name": "stderr",
     "output_type": "stream",
     "text": [
      "Downloading data from 'https://www.ncei.noaa.gov/pub/data/cmb/ersst/v5/index/ersst.v5.pdo.dat' to file '/Users/ewd/Library/Caches/pooch/4c08eecbe17d39a4c4466641266331b2-ersst.v5.pdo.dat'.\n",
      "SHA256 hash of downloaded file: 91162c2adb8b1745a1ccaf2881c80f8690c4f28ef968afe18667a453806df8bf\n",
      "Use this value as the 'known_hash' argument of 'pooch.retrieve' to ensure that the file hasn't changed if it is downloaded again in the future.\n"
     ]
    }
   ],
   "source": [
    "fname_pdo = pooch.retrieve(\n",
    "    url=\"https://www.ncei.noaa.gov/pub/data/cmb/ersst/v5/index/ersst.v5.pdo.dat\",\n",
    "    known_hash=None,\n",
    ")\n"
   ]
  },
  {
   "cell_type": "code",
   "execution_count": 3,
   "id": "2a595d18-d04c-4833-84bc-f279b62d3fad",
   "metadata": {},
   "outputs": [],
   "source": [
    "# pdo = pd.read_csv('climate-indices/ersst.v5.pdo.txt', skiprows=1, delim_whitespace=True)\n",
    "pdo = pd.read_csv(fname_pdo, skiprows=1, delim_whitespace=True)\n",
    "column_names = pdo.columns\n",
    "\n",
    "pdo = pd.melt(pdo, id_vars=['Year'], var_name=['Month'])\n",
    "pdo['Date'] = pd.to_datetime(pdo['Year'].astype(str) + '-' + pdo['Month'].astype(str))\n",
    "pdo = pdo.sort_values(by=['Date']).drop(columns=['Month', 'Year']).reset_index(drop=['index'])\n",
    "pdo = pdo.set_index('Date')\n",
    "pdo = pdo.rename(columns={'value':'PDO'})\n"
   ]
  },
  {
   "cell_type": "markdown",
   "id": "6c5d0664-6f9c-48ca-b6ce-1eb12a62f503",
   "metadata": {},
   "source": [
    "## Interdecadal Pacific Oscillation (IPO)\n",
    "Downloaded from https://psl.noaa.gov/data/timeseries/IPOTPI/\n"
   ]
  },
  {
   "cell_type": "code",
   "execution_count": 4,
   "id": "6d67e6b1-f60c-48b1-8f4c-f202cc0a0a87",
   "metadata": {},
   "outputs": [
    {
     "name": "stderr",
     "output_type": "stream",
     "text": [
      "Downloading data from 'https://psl.noaa.gov/data/timeseries/IPOTPI/tpi.timeseries.ersstv5.data' to file '/Users/ewd/Library/Caches/pooch/ebea279201ec684906e697ab78cce438-tpi.timeseries.ersstv5.data'.\n",
      "SHA256 hash of downloaded file: 9ed60ba4987ecda7e80bf920c520479551eb4e6a7747b3ac13554059251bc617\n",
      "Use this value as the 'known_hash' argument of 'pooch.retrieve' to ensure that the file hasn't changed if it is downloaded again in the future.\n"
     ]
    }
   ],
   "source": [
    "fname_ipo = pooch.retrieve(\n",
    "    url=\"https://psl.noaa.gov/data/timeseries/IPOTPI/tpi.timeseries.ersstv5.data\",\n",
    "    known_hash=None,\n",
    ")\n"
   ]
  },
  {
   "cell_type": "code",
   "execution_count": 5,
   "id": "b853b25c-c456-4bb8-948c-e74e3ae8fe27",
   "metadata": {},
   "outputs": [],
   "source": [
    "\n",
    "ipo = pd.read_csv(fname_ipo, skiprows=1, nrows=169, delim_whitespace=True, names=column_names)\n",
    "\n",
    "ipo = pd.melt(ipo, id_vars=['Year'], var_name=['Month'])\n",
    "ipo['Date'] = pd.to_datetime(ipo['Year'].astype(str) + '-' + ipo['Month'].astype(str))\n",
    "ipo = ipo.sort_values(by=['Date']).drop(columns=['Month', 'Year']).reset_index(drop=['index'])\n",
    "ipo = ipo.set_index('Date')\n",
    "ipo = ipo.rename(columns={'value':'Interdecadal Pacific Oscillation'})\n",
    "\n"
   ]
  },
  {
   "cell_type": "markdown",
   "id": "eb11afe9-55ce-4bac-9da5-ad2579bcc6b7",
   "metadata": {},
   "source": [
    "## SAM\n",
    "Downloaded from https://legacy.bas.ac.uk/met/gjma/sam.html\n"
   ]
  },
  {
   "cell_type": "code",
   "execution_count": 6,
   "id": "f68498ea-9e47-48d0-903f-11b7466ef7a5",
   "metadata": {},
   "outputs": [
    {
     "name": "stderr",
     "output_type": "stream",
     "text": [
      "Downloading data from 'http://www.nerc-bas.ac.uk/public/icd/gjma/newsam.1957.2007.txt' to file '/Users/ewd/Library/Caches/pooch/b11d5a54c0542c36c959045b28e8166b-newsam.1957.2007.txt'.\n",
      "SHA256 hash of downloaded file: 9c9ce760970fe23cc75fe235b36d3c5cb0af716ec8e63325a7c824bb80631f0e\n",
      "Use this value as the 'known_hash' argument of 'pooch.retrieve' to ensure that the file hasn't changed if it is downloaded again in the future.\n"
     ]
    }
   ],
   "source": [
    "fname_sam = pooch.retrieve(\n",
    "    url=\"http://www.nerc-bas.ac.uk/public/icd/gjma/newsam.1957.2007.txt\",\n",
    "    known_hash=None,\n",
    ")\n",
    "\n"
   ]
  },
  {
   "cell_type": "code",
   "execution_count": 7,
   "id": "d2048cff-baef-48e2-b830-ecee8abf67f0",
   "metadata": {},
   "outputs": [],
   "source": [
    "\n",
    "sam = pd.read_csv(fname_sam, skiprows=1, delim_whitespace=True, names=column_names)\n",
    "\n",
    "sam = pd.melt(sam, id_vars=['Year'], var_name=['Month'])\n",
    "sam['Date'] = pd.to_datetime(sam['Year'].astype(str) + '-' + sam['Month'].astype(str))\n",
    "sam = sam.sort_values(by=['Date']).drop(columns=['Month', 'Year']).reset_index(drop=['index'])\n",
    "sam = sam.set_index('Date')\n",
    "sam = sam.rename(columns={'value':'Southern Annular Mode'})\n"
   ]
  },
  {
   "cell_type": "markdown",
   "id": "d6c273b5-b092-48fd-af8c-c871f6d7bcfc",
   "metadata": {},
   "source": [
    "## SOI - Southern Oscillation index\n",
    "Downloaded from https://www.ncei.noaa.gov/access/monitoring/enso/soi\n"
   ]
  },
  {
   "cell_type": "code",
   "execution_count": 8,
   "id": "6ac5621e-1736-43ef-ae70-aacc7fa387ab",
   "metadata": {},
   "outputs": [
    {
     "name": "stderr",
     "output_type": "stream",
     "text": [
      "Downloading data from 'https://www.cpc.ncep.noaa.gov/data/indices/soi' to file '/Users/ewd/Library/Caches/pooch/563079a94e8f885afb0c46bc29dc0877-soi'.\n",
      "SHA256 hash of downloaded file: d3d02d4a2709080d15373822cb8b893687a4b1e3e416ee4c11b03985d000607e\n",
      "Use this value as the 'known_hash' argument of 'pooch.retrieve' to ensure that the file hasn't changed if it is downloaded again in the future.\n"
     ]
    }
   ],
   "source": [
    "fname_soi = pooch.retrieve(\n",
    "    url=\"https://www.cpc.ncep.noaa.gov/data/indices/soi\",\n",
    "    known_hash=None,\n",
    ")"
   ]
  },
  {
   "cell_type": "code",
   "execution_count": 9,
   "id": "60bacb41-6335-4097-a388-fe0dc5aa09ba",
   "metadata": {},
   "outputs": [],
   "source": [
    "\n",
    "soi = pd.read_csv(fname_soi, skiprows=3, nrows=72, delim_whitespace=True)\n",
    "\n",
    "\n",
    "soi = pd.melt(soi, id_vars=['YEAR'], var_name=['Month'])\n",
    "soi['Date'] = pd.to_datetime(soi['YEAR'].astype(str) + '-' + soi['Month'].astype(str))\n",
    "soi = soi.sort_values(by=['Date']).drop(columns=['Month', 'YEAR']).reset_index(drop=['index'])\n",
    "soi = soi.set_index('Date')\n",
    "soi = soi.rename(columns={'value':'Southern Oscillation Index'})\n"
   ]
  },
  {
   "cell_type": "markdown",
   "id": "310843ee-edcf-4c48-b608-18bfe494331d",
   "metadata": {},
   "source": [
    "## AMO \n",
    "Downloaded from https://psl.noaa.gov/data/timeseries/AMO/\n"
   ]
  },
  {
   "cell_type": "code",
   "execution_count": 10,
   "id": "00c4e80c-c5af-4e92-8538-8998972fb649",
   "metadata": {},
   "outputs": [
    {
     "name": "stderr",
     "output_type": "stream",
     "text": [
      "Downloading data from 'https://psl.noaa.gov/data/correlation/amon.us.long.data' to file '/Users/ewd/Library/Caches/pooch/6f03f854461a44d598dacf8beef57cb2-amon.us.long.data'.\n",
      "SHA256 hash of downloaded file: 9bf4d13f5c695ed96ac1bfcca60d1a7fcf5cf0e7586cbb39a6734e5c42111eab\n",
      "Use this value as the 'known_hash' argument of 'pooch.retrieve' to ensure that the file hasn't changed if it is downloaded again in the future.\n"
     ]
    }
   ],
   "source": [
    "fname_amo = pooch.retrieve(\n",
    "    url=\"https://psl.noaa.gov/data/correlation/amon.us.long.data\",\n",
    "    known_hash=None,\n",
    ")\n",
    "\n"
   ]
  },
  {
   "cell_type": "code",
   "execution_count": 11,
   "id": "0223e06e-7d22-49f6-8d19-8035b9ae8e37",
   "metadata": {},
   "outputs": [],
   "source": [
    "\n",
    "#unsmoothed\n",
    "amo = pd.read_csv(fname_amo, skiprows=1, nrows=167, delim_whitespace=True, names=column_names)\n",
    "amo\n",
    "amo = pd.melt(amo, id_vars=['Year'], var_name=['Month'])\n",
    "amo['Date'] = pd.to_datetime(amo['Year'].astype(str) + '-' + amo['Month'].astype(str))\n",
    "amo = amo.sort_values(by=['Date']).drop(columns=['Month', 'Year']).reset_index(drop=['index'])\n",
    "amo = amo.set_index('Date')\n",
    "amo = amo.rename(columns={'value':'Atlantic Multi-decadal Oscillation '})\n",
    "\n",
    "# # smoothed\n",
    "# amo_smoothed = pd.read_csv('climate-indices/amon.sm.long.txt', nrows=167, delim_whitespace=True)\n",
    "\n",
    "# amo_smoothed = pd.melt(amo_smoothed, id_vars=['Year'], var_name=['Month'])\n",
    "# amo_smoothed['Date'] = pd.to_datetime(amo_smoothed['Year'].astype(str) + '-' + amo_smoothed['Month'].astype(str))\n",
    "# amo_smoothed = amo_smoothed.sort_values(by=['Date']).drop(columns=['Month', 'Year']).reset_index(drop=['index'])\n",
    "# amo_smoothed = amo_smoothed.set_index('Date')\n",
    "# amo_smoothed = amo_smoothed.rename(columns={'value':'AMO_smoothed'})\n",
    "\n",
    "\n",
    "\n",
    "# amo_smoothed.drop(amo_smoothed[amo_smoothed['AMO_smoothed']< -90].index, inplace=True)"
   ]
  },
  {
   "cell_type": "markdown",
   "id": "1e067ba2-d75b-4c95-8821-56fb50baee23",
   "metadata": {},
   "source": [
    "## IOD \n",
    "Downloaded from  https://stateoftheocean.osmc.noaa.gov/sur/ind/dmi.php\n"
   ]
  },
  {
   "cell_type": "code",
   "execution_count": 12,
   "id": "4cd5448b-1216-4b8f-bfaa-522bd9574e1d",
   "metadata": {},
   "outputs": [
    {
     "name": "stderr",
     "output_type": "stream",
     "text": [
      "Downloading data from 'https://stateoftheocean.osmc.noaa.gov/sur/data/dmi.nc' to file '/Users/ewd/Library/Caches/pooch/f74d18c2e9a017a91be95811d2ae5d71-dmi.nc'.\n",
      "SHA256 hash of downloaded file: 35b8209f73f0feb65af6210defc7c7c5553cadbd2595625246f465a21c060168\n",
      "Use this value as the 'known_hash' argument of 'pooch.retrieve' to ensure that the file hasn't changed if it is downloaded again in the future.\n"
     ]
    }
   ],
   "source": [
    "fname_iod = pooch.retrieve(\n",
    "    url=\"https://stateoftheocean.osmc.noaa.gov/sur/data/dmi.nc\",\n",
    "    known_hash=None,\n",
    ")\n"
   ]
  },
  {
   "cell_type": "code",
   "execution_count": 13,
   "id": "538ff737-4f3f-4149-85ba-33a88c91fafb",
   "metadata": {},
   "outputs": [],
   "source": [
    "\n",
    "iod = xr.open_dataset(fname_iod)\n",
    "iod = iod.to_dataframe()\n",
    "iod = iod.rename(columns={'DMI':'Indian Ocean Dipole'})\n"
   ]
  },
  {
   "cell_type": "markdown",
   "id": "87123897-b365-4030-b392-4ae6328ebd90",
   "metadata": {},
   "source": [
    "# Smooth the indices"
   ]
  },
  {
   "cell_type": "code",
   "execution_count": 14,
   "id": "0d109ca5-96d1-49f3-9e73-3f6af37d5cb9",
   "metadata": {},
   "outputs": [],
   "source": [
    "# smooth the indices\n",
    "years_to_smooth = 2\n",
    "\n",
    "ipo = ipo.rolling(years_to_smooth*12, center=True).mean()\n",
    "sam = sam.rolling(years_to_smooth*12, center=True).mean()\n",
    "soi = soi.rolling(years_to_smooth*12, center=True).mean()\n",
    "iod = iod.rolling(years_to_smooth*12, center=True).mean()\n",
    "amo = amo.rolling(years_to_smooth*12, center=True).mean()\n",
    "\n",
    "# mask within +/- 0.5 standard deviations of zero\n",
    "ipo = ipo.where(ipo.abs() > 0.5*ipo.std())\n",
    "sam = sam.where(sam.abs() > 0.5*sam.std())\n",
    "soi = soi.where(soi.abs() > 0.5*soi.std())\n",
    "iod = iod.where(iod.abs() > 0.5*iod.std())\n",
    "amo = amo.where(amo.abs() > 0.5*amo.std())\n",
    "\n",
    "\n",
    "# shift the indices for plotting\n",
    "ipo = (np.sign(ipo)*0.5 - 0.0)\n",
    "sam = (np.sign(sam)*0.5 - 0.1)\n",
    "soi = (np.sign(soi)*0.5 - 0.2)\n",
    "iod = (np.sign(iod)*0.5 - 0.3)\n",
    "amo = (np.sign(amo)*0.5 - 0.4)"
   ]
  },
  {
   "cell_type": "markdown",
   "id": "bc0cb5b0-1614-444e-81b1-cb7f1f49ca3d",
   "metadata": {},
   "source": [
    "# Plot the indices"
   ]
  },
  {
   "cell_type": "code",
   "execution_count": 15,
   "id": "f5d970f1-17d4-4562-bd18-1dedaf72d9ba",
   "metadata": {},
   "outputs": [
    {
     "data": {
      "image/png": "[encoded data removed]",
      "text/plain": [
       "<Figure size 1000x500 with 1 Axes>"
      ]
     },
     "metadata": {},
     "output_type": "display_data"
    }
   ],
   "source": [
    "\n",
    "plt.figure(figsize=(10,5))\n",
    "ax = plt.gca()\n",
    "\n",
    "ipo.plot(marker='o', linewidth=0, ax=ax)\n",
    "sam.plot(marker='o', linewidth=0, ax=ax)\n",
    "soi.plot(marker='o', linewidth=0, ax=ax)\n",
    "iod.plot(marker='o', linewidth=0, ax=ax)\n",
    "amo.plot(marker='o', linewidth=0, ax=ax)\n",
    "# amo_smoothed.plot(ax=ax)\n",
    "\n",
    "# ax.set_yticks(\n",
    "plt.yticks(ticks=[-0.7, 0.3], labels=['Negative', 'Positive'])\n",
    "ax.yaxis.set_tick_params(length=0)\n",
    "\n",
    "plt.xlim('1968', '2024')\n",
    "plt.xlabel('')\n",
    "# plt.hlines(0, '1970', '2023', color='k')\n",
    "\n",
    "plt.vlines(['1978-11', '2007-08', '2016-08'], -1, 0.6, color='k')\n",
    "\n",
    "plt.legend(loc='center left', bbox_to_anchor=(0.2, 0.5))\n",
    "\n",
    "plt.savefig('climate-indices.png', dpi=200, bbox_inches='tight')\n",
    "# plt.barh(2, np.timedelta64(1800, 'Y'),left='1995-01-01', height=0.2)\n",
    "# plt.barh(2, np.timedelta64(1800, 'Y'),left='1995-01-01', height=0.2)"
   ]
  },
  {
   "cell_type": "code",
   "execution_count": null,
   "id": "d3637b5f-dc21-48fe-a2f1-eaf9eb1845cc",
   "metadata": {},
   "outputs": [],
   "source": []
  }
 ],
 "metadata": {
  "kernelspec": {
   "display_name": "Python 3 (ipykernel)",
   "language": "python",
   "name": "python3"
  },
  "language_info": {
   "codemirror_mode": {
    "name": "ipython",
    "version": 3
   },
   "file_extension": ".py",
   "mimetype": "text/x-python",
   "name": "python",
   "nbconvert_exporter": "python",
   "pygments_lexer": "ipython3",
   "version": "3.11.0"
  }
 },
 "nbformat": 4,
 "nbformat_minor": 5
}
